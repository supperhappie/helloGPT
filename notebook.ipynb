{
 "cells": [
  {
   "cell_type": "code",
   "execution_count": 190,
   "metadata": {},
   "outputs": [],
   "source": [
    "from langchain.chat_models import ChatOpenAI\n",
    "from langchain.prompts import PromptTemplate\n",
    "from langchain.prompts.few_shot import FewShotPromptTemplate # give some example to the model \n",
    "from langchain.callbacks import StreamingStdOutCallbackHandler\n",
    "\n",
    "chat = ChatOpenAI(model=\"gpt-4o-mini\", \n",
    "                  temperature= 0.1,\n",
    "                  streaming=True,\n",
    "                  callbacks=[StreamingStdOutCallbackHandler(),])\n",
    "\n",
    "t = PromptTemplate.from_template(\"What is the capital of {country}\")\n",
    "out = t.format(country=\"korea\")"
   ]
  },
  {
   "cell_type": "code",
   "execution_count": 196,
   "metadata": {},
   "outputs": [
    {
     "name": "stdout",
     "output_type": "stream",
     "text": [
      "\n",
      "    Human:What do you know about France?\n",
      "    AI:\n",
      "        Here is what I know : \n",
      "        - Capital : Paris\n",
      "        - Language : French\n",
      "        - Food : Wine and Cheese\n",
      "        - Currency : Euro\n",
      "        \n",
      "\n",
      "\n",
      "\n",
      "    Human:What do you know about Korea?\n",
      "    AI:\n",
      "        Here is what I know : \n",
      "        - Capital : Seuol\n",
      "        - Language : Korean\n",
      "        - Food : Kimchi and boolbag\n",
      "        - Currency : won\n",
      "        \n",
      "\n",
      "\n",
      "Human: What do you know about Germany?\n"
     ]
    }
   ],
   "source": [
    "examples = [\n",
    "    {    \n",
    "        \"question\" : \"What do you know about France?\",\n",
    "        \"answer\": \"\"\"\n",
    "        Here is what I know : \n",
    "        - Capital : Paris\n",
    "        - Language : French\n",
    "        - Food : Wine and Cheese\n",
    "        - Currency : Euro\n",
    "        \"\"\",\n",
    "    },\n",
    "    {    \n",
    "        \"question\" : \"What do you know about Korea?\",\n",
    "        \"answer\": \"\"\"\n",
    "        Here is what I know : \n",
    "        - Capital : Seuol\n",
    "        - Language : Korean\n",
    "        - Food : Kimchi and boolbag\n",
    "        - Currency : won\n",
    "        \"\"\",\n",
    "    },\n",
    "    ]\n",
    "\n",
    "example_template = \"\"\"\n",
    "    Human:{question}\n",
    "    AI:{answer}\n",
    "\"\"\"\n",
    "\n",
    "example_prompt = PromptTemplate.from_template(example_template)\n",
    "prompt = FewShotPromptTemplate(\n",
    "    example_prompt=example_prompt,\n",
    "    examples=examples,\n",
    "    suffix=\"Human: What do you know about {country}?\",\n",
    "    input_variables=[\"country\"]\n",
    ")\n",
    "\n",
    "# out = prompt.format(country=\"Germany\")\n",
    "# print(out)"
   ]
  },
  {
   "cell_type": "code",
   "execution_count": 198,
   "metadata": {},
   "outputs": [
    {
     "name": "stdout",
     "output_type": "stream",
     "text": [
      "AI: Here is what I know:  \n",
      "- Capital: Berlin  \n",
      "- Language: German  \n",
      "- Food: Sausages and Sauerkraut  \n",
      "- Currency: Euro  "
     ]
    }
   ],
   "source": [
    "chain  = prompt | chat\n",
    "out = chain.invoke({\n",
    "    \"country\":\"Germany\"\n",
    "})"
   ]
  }
 ],
 "metadata": {
  "kernelspec": {
   "display_name": "env",
   "language": "python",
   "name": "python3"
  },
  "language_info": {
   "codemirror_mode": {
    "name": "ipython",
    "version": 3
   },
   "file_extension": ".py",
   "mimetype": "text/x-python",
   "name": "python",
   "nbconvert_exporter": "python",
   "pygments_lexer": "ipython3",
   "version": "3.10.8"
  }
 },
 "nbformat": 4,
 "nbformat_minor": 2
}
