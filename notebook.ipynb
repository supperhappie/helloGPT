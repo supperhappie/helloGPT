{
 "cells": [
  {
   "cell_type": "code",
   "execution_count": 31,
   "metadata": {},
   "outputs": [
    {
     "name": "stdout",
     "output_type": "stream",
     "text": [
      "content='Hello Noah! How can I assist you today?'\n"
     ]
    }
   ],
   "source": [
    "from langchain.memory import ConversationSummaryBufferMemory\n",
    "from langchain.chat_models import ChatOpenAI\n",
    "from langchain.prompts import ChatPromptTemplate, MessagesPlaceholder\n",
    "from langchain.schema.runnable import RunnablePassthrough\n",
    "\n",
    "llm = ChatOpenAI(temperature=0.1, model=\"gpt-3.5-turbo\")\n",
    "\n",
    "memory = ConversationSummaryBufferMemory(\n",
    "    llm = llm,\n",
    "    max_token_limit=80, \n",
    "    memory_key=\"chat_history\",\n",
    "    return_messages=True,\n",
    ")\n",
    "\n",
    "prompt=ChatPromptTemplate.from_messages([\n",
    "    (\"system\", \"You are helpful AI talking to a human\"),\n",
    "    MessagesPlaceholder(variable_name=\"chat_history\"),\n",
    "    ('human', \"{question}\"),\n",
    "])\n",
    "\n",
    "def load_memory(_):\n",
    "    return memory.load_memory_variables({})['chat_history']\n",
    "\n",
    "#RunnablePassthrough is part of the Langchain framework, used to forward data without modifying it in the chain of operations.\n",
    "chain = RunnablePassthrough.assign(chat_history=load_memory)|prompt|llm\n",
    "\n",
    "def invoke_chain(chain, question):\n",
    "    result = chain.invoke({\"question\": question})\n",
    "    memory.save_context({\"input\":question}, {\"outputs\":result.content},)\n",
    "    print(result)\n",
    "    \n",
    "invoke_chain(chain=chain, question=\"My name is noah\")"
   ]
  },
  {
   "cell_type": "code",
   "execution_count": 32,
   "metadata": {},
   "outputs": [
    {
     "name": "stdout",
     "output_type": "stream",
     "text": [
      "content='Your name is Noah.'\n"
     ]
    }
   ],
   "source": [
    "invoke_chain(chain=chain, question=\"What is my name?\")"
   ]
  },
  {
   "cell_type": "code",
   "execution_count": 34,
   "metadata": {},
   "outputs": [
    {
     "name": "stdout",
     "output_type": "stream",
     "text": [
      "mapper={\n",
      "  chat_history: RunnableLambda(...)\n",
      "}\n"
     ]
    }
   ],
   "source": [
    "memory.load_memory_variables({})\n",
    "out = RunnablePassthrough.assign(chat_history=load_memory)\n",
    "print(out)"
   ]
  }
 ],
 "metadata": {
  "kernelspec": {
   "display_name": "env",
   "language": "python",
   "name": "python3"
  },
  "language_info": {
   "codemirror_mode": {
    "name": "ipython",
    "version": 3
   },
   "file_extension": ".py",
   "mimetype": "text/x-python",
   "name": "python",
   "nbconvert_exporter": "python",
   "pygments_lexer": "ipython3",
   "version": "3.10.8"
  }
 },
 "nbformat": 4,
 "nbformat_minor": 2
}
